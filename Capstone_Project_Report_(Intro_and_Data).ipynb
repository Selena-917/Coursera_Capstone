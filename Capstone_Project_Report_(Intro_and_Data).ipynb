{
    "cells": [
        {
            "metadata": {
                "collapsed": true
            },
            "cell_type": "markdown",
            "source": "# Project Report (Intro and Data)"
        },
        {
            "metadata": {},
            "cell_type": "markdown",
            "source": "## 1. Introduction"
        },
        {
            "metadata": {},
            "cell_type": "markdown",
            "source": "### Background"
        },
        {
            "metadata": {},
            "cell_type": "markdown",
            "source": "Nowadays, more and more stores have chain stores across the country even across the world. When opening a new chain store in a new place, some brands got a great success, which means they have lots of customers, but some brands failed since those places maybe not suitable for them. Failure is fatal for some companies, especially those companies that are just starting out. They may invest a lot of money to establish a new store, but once the new store failed, they face quite serious cash flow problems which may make them bankrupt. Thus opening a new chain store is risk taking action for every company. If we can analyze our data to find better place to open the new store, then the risk will be decreased."
        },
        {
            "metadata": {},
            "cell_type": "markdown",
            "source": "### Description of the problem "
        },
        {
            "metadata": {},
            "cell_type": "markdown",
            "source": "In this project, we will focus on a restaturant who has a great success in the New York City and wants to open a new chain restaturant in Los Angeles. We will help this restaturant to find best place in the Los Angeles so that the risk of opening a new restaturant will be lower. The reason of chosing these two places, New York City & Los Angeles, is that both of them contain various types of stores and people from all over the world. We only focus on the restaurant here, but theory is same for other stores like clothing, shoping mall, liquor store, etc."
        },
        {
            "metadata": {},
            "cell_type": "markdown",
            "source": "## 2. Data"
        },
        {
            "metadata": {},
            "cell_type": "markdown",
            "source": "We will use Foursquare location data to solve the problem or execute the idea. With the Foursquare location data, we can get the neighborhoods of the restaurant that we are focusing. Within these neighborhoods, we may find the different categories and their frequency. Then we may find a place in Los Angeles which has similar neighborhoods.\n\nBy using Foursquare location data, we can extract neighborhoods of the restaurant we are focusing on. Then after segmenting area of Los Angeles, for each location, we can use Foursquare location data again to explore the neighborhoods and find the optimal place with most similar neighborhoods."
        },
        {
            "metadata": {},
            "cell_type": "markdown",
            "source": "Based on definition of our problem, factors that will influence our decission are:\n* neighborhoods of our restaurant in new york\n* number of each category of neighborhoods\n\nWe decided to use regularly spaced grid of locations, centered around city center, to define our neighborhoods.\n\nFollowing data sources will be needed to extract/generate the required information:\n* centers of candidate areas will be generated algorithmically and approximate addresses of centers of those areas will be obtained using **geopy library**\n* neighborhoods and categories will be obtained using **Foursquare API**\n* coordinate of New York City center and Los Angeles center will be obtained using **geopy library**"
        }
    ],
    "metadata": {
        "kernelspec": {
            "name": "python3",
            "display_name": "Python 3.7",
            "language": "python"
        },
        "language_info": {
            "name": "python",
            "version": "3.7.9",
            "mimetype": "text/x-python",
            "codemirror_mode": {
                "name": "ipython",
                "version": 3
            },
            "pygments_lexer": "ipython3",
            "nbconvert_exporter": "python",
            "file_extension": ".py"
        }
    },
    "nbformat": 4,
    "nbformat_minor": 1
}