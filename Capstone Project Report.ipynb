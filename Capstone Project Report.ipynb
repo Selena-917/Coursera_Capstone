{
    "cells": [
        {
            "metadata": {
                "collapsed": true
            },
            "cell_type": "markdown",
            "source": "# Project Report"
        },
        {
            "metadata": {},
            "cell_type": "markdown",
            "source": "## 1. Introduction"
        },
        {
            "metadata": {},
            "cell_type": "markdown",
            "source": "### Background"
        },
        {
            "metadata": {},
            "cell_type": "markdown",
            "source": "Nowadays, more and more stores have chain stores across the country even across the world. When opening a new chain store in a new place, some brands got a great success, which means they have lots of customers, but some brands failed since those places maybe not suitable for them. Failure is fatal for some companies, especially those companies that are just starting out. They may invest a lot of money to establish a new store, but once the new store failed, they face quite serious cash flow problems which may make them bankrupt. Thus opening a new chain store is risk taking action for every company. If we can analyze our data to find better place to open the new store, then the risk will be decreased."
        },
        {
            "metadata": {},
            "cell_type": "markdown",
            "source": "### Description of the problem "
        },
        {
            "metadata": {},
            "cell_type": "markdown",
            "source": "In this project, we will focus on a restaturant who has a great success in the New York City and wants to open a new chain restaturant in California. We will help this restaturant to find best place in the California so that the risk of opening a new restaturant will be lower. The reason of chosing these two places, New York City & California, is that both of them contain various types of stores and people from all over the world. We only focus on the restaurant here, but theory is same for other stores like clothing, shoping mall, liquor store, etc."
        },
        {
            "metadata": {},
            "cell_type": "markdown",
            "source": "## 2. Data"
        },
        {
            "metadata": {},
            "cell_type": "markdown",
            "source": "We will use Foursquare location data to solve the problem or execute the idea. With the Foursquare location data, we can get the neighborhoods of the restaurant that we are focusing. Within these neighborhoods, we may find the origin of the customers. Then we may see find a place in California which has similar neighborhoods that may bring customers to the restaurant."
        },
        {
            "metadata": {},
            "cell_type": "code",
            "source": "",
            "execution_count": null,
            "outputs": []
        }
    ],
    "metadata": {
        "kernelspec": {
            "name": "python3",
            "display_name": "Python 3.7",
            "language": "python"
        },
        "language_info": {
            "name": "python",
            "version": "3.7.9",
            "mimetype": "text/x-python",
            "codemirror_mode": {
                "name": "ipython",
                "version": 3
            },
            "pygments_lexer": "ipython3",
            "nbconvert_exporter": "python",
            "file_extension": ".py"
        }
    },
    "nbformat": 4,
    "nbformat_minor": 1
}